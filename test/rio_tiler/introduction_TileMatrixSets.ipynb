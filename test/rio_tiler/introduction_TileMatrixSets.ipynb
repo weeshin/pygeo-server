{
 "cells": [
  {
   "cell_type": "code",
   "execution_count": 1,
   "metadata": {},
   "outputs": [],
   "source": [
    "# !pip install rio-tiler\n",
    "# !pip install ipyleaflet"
   ]
  },
  {
   "cell_type": "code",
   "execution_count": 1,
   "metadata": {},
   "outputs": [],
   "source": [
    "import morecantile\n",
    "from ipyleaflet import Map, TileLayer, projections"
   ]
  },
  {
   "cell_type": "code",
   "execution_count": 2,
   "metadata": {},
   "outputs": [],
   "source": [
    "# For this DEMO we will use this file\n",
    "src_path = \"https://njogis-imagery.s3.amazonaws.com/2020/cog/I7D16.tif\""
   ]
  },
  {
   "cell_type": "code",
   "execution_count": 3,
   "metadata": {},
   "outputs": [],
   "source": [
    "from concurrent import futures\n",
    "\n",
    "from tornado import gen, web\n",
    "from tornado.concurrent import run_on_executor\n",
    "from tornado.httpserver import HTTPServer\n",
    "\n",
    "from rio_tiler.errors import TileOutsideBounds\n",
    "from rio_tiler.io import Reader\n",
    "from rio_tiler.profiles import img_profiles\n",
    "\n",
    "\n",
    "class TileServer:\n",
    "    def __init__(self, src_path):\n",
    "        \"\"\"Initialize Tornado app.\"\"\"\n",
    "        self.server = None\n",
    "        self.app = web.Application(\n",
    "            [\n",
    "                (r\"^/tiles/(\\w+)/(\\d+)/(\\d+)/(\\d+)\", TileHandler, {\"url\": src_path}),\n",
    "            ]\n",
    "        )\n",
    "\n",
    "    def start(self):\n",
    "        \"\"\"Start tile server.\"\"\"\n",
    "        self.server = HTTPServer(self.app)\n",
    "        self.server.listen(8080)\n",
    "\n",
    "    def stop(self):\n",
    "        \"\"\"Stop tile server.\"\"\"\n",
    "        if self.server:\n",
    "            self.server.stop()\n",
    "\n",
    "\n",
    "class TileHandler(web.RequestHandler):\n",
    "    \"\"\"Tile requests handler.\"\"\"\n",
    "\n",
    "    executor = futures.ThreadPoolExecutor(max_workers=16)\n",
    "\n",
    "    def initialize(self, url):\n",
    "        \"\"\"Initialize tiles handler.\"\"\"\n",
    "        self.url = url\n",
    "\n",
    "    @run_on_executor\n",
    "    def _get_tile(self, tms, z, x, y):\n",
    "        try:\n",
    "            with Reader(self.url, tms=morecantile.tms.get(tms)) as cog:\n",
    "                img = cog.tile(x, y, z, indexes=(1, 2, 3))\n",
    "        except TileOutsideBounds:\n",
    "            raise web.HTTPError(404)\n",
    "\n",
    "        prof = img_profiles.get(\"PNG\", {})\n",
    "        return img.render(img_format=\"PNG\", **prof)\n",
    "\n",
    "    @gen.coroutine\n",
    "    def get(self, tms, z, x, y):\n",
    "        \"\"\"Retunrs tile data and header.\"\"\"\n",
    "        self.set_header(\"Access-Control-Allow-Origin\", \"*\")\n",
    "        self.set_header(\"Access-Control-Allow-Methods\", \"GET\")\n",
    "        self.set_header(\"Content-Type\", \"image/png\")\n",
    "        self.set_header(\"Cache-Control\", \"no-store, no-cache, must-revalidate\")\n",
    "        res = yield self._get_tile(tms, int(z), int(x), int(y))\n",
    "        self.write(res)\n",
    "\n",
    "\n",
    "ts = TileServer(src_path)\n",
    "ts.start()"
   ]
  },
  {
   "cell_type": "code",
   "execution_count": 4,
   "metadata": {},
   "outputs": [
    {
     "name": "stdout",
     "output_type": "stream",
     "text": [
      "Supported TMS:\n",
      "- CanadianNAD83_LCC\n",
      "- CDB1GlobalGrid\n",
      "- EuropeanETRS89_LAEAQuad\n",
      "- GNOSISGlobalGrid\n",
      "- LINZAntarticaMapTilegrid\n",
      "- NZTM2000Quad\n",
      "- UPSAntarcticWGS84Quad\n",
      "- UPSArcticWGS84Quad\n",
      "- UTM31WGS84Quad\n",
      "- WebMercatorQuad\n",
      "- WGS1984Quad\n",
      "- WorldCRS84Quad\n",
      "- WorldMercatorWGS84Quad\n"
     ]
    }
   ],
   "source": [
    "print(\"Supported TMS:\")\n",
    "for name in morecantile.tms.list():\n",
    "    print(\"-\", name)"
   ]
  },
  {
   "cell_type": "code",
   "execution_count": 5,
   "metadata": {},
   "outputs": [
    {
     "name": "stdout",
     "output_type": "stream",
     "text": [
      "{'bounds': (2681963.3968851496, 591777.0659296932, 2684162.5989161497, 593574.0311672932), 'crs': 'http://www.opengis.net/def/crs/EPSG/0/32647', 'band_metadata': [('b1', {'STATISTICS_APPROXIMATE': 'YES', 'STATISTICS_MAXIMUM': '232', 'STATISTICS_MEAN': '93.427102265171', 'STATISTICS_MINIMUM': '41', 'STATISTICS_STDDEV': '23.414576247576', 'STATISTICS_VALID_PERCENT': '70.33'}), ('b2', {'STATISTICS_APPROXIMATE': 'YES', 'STATISTICS_MAXIMUM': '228', 'STATISTICS_MEAN': '133.97841216366', 'STATISTICS_MINIMUM': '65', 'STATISTICS_STDDEV': '18.587782907648', 'STATISTICS_VALID_PERCENT': '70.33'}), ('b3', {'STATISTICS_APPROXIMATE': 'YES', 'STATISTICS_MAXIMUM': '222', 'STATISTICS_MEAN': '84.303648211357', 'STATISTICS_MINIMUM': '43', 'STATISTICS_STDDEV': '17.222671627944', 'STATISTICS_VALID_PERCENT': '70.33'}), ('b4', {'STATISTICS_APPROXIMATE': 'YES', 'STATISTICS_MAXIMUM': '255', 'STATISTICS_MEAN': '178.42586797449', 'STATISTICS_MINIMUM': '0', 'STATISTICS_STDDEV': '116.88800610432', 'STATISTICS_VALID_PERCENT': '100'})], 'band_descriptions': [('b1', ''), ('b2', ''), ('b3', ''), ('b4', '')], 'dtype': 'uint8', 'nodata_type': 'Alpha', 'colorinterp': ['red', 'green', 'blue', 'alpha'], 'scales': [1.0, 1.0, 1.0, 1.0], 'offsets': [0.0, 0.0, 0.0, 0.0], 'driver': 'GTiff', 'count': 4, 'width': 50530, 'height': 41288, 'overviews': [2, 4, 8, 16]}\n",
      "(118.31184683143996, 5.051553101311043, 118.33103543270258, 5.067468449410426)\n",
      "14 22\n"
     ]
    },
    {
     "data": {
      "application/vnd.jupyter.widget-view+json": {
       "model_id": "155ee14cd6624858b7444bd1af83a10f",
       "version_major": 2,
       "version_minor": 0
      },
      "text/plain": [
       "Map(center=[5.059510775360735, 118.32144113207127], controls=(ZoomControl(options=['position', 'zoom_in_text',…"
      ]
     },
     "execution_count": 5,
     "metadata": {},
     "output_type": "execute_result"
    }
   ],
   "source": [
    "src_path = \"D:\\\\EmDrone\\\\Lahad Datu\\\\lahad_datu_cog.tif\"\n",
    "# src_path = \"C:\\\\Users\\\\Nicklim\\\\Documents\\\\Personal\\\\Projects\\\\Medium\\\\OGC\\\\pygeo-server\\\\data\\\\mersing-rgb.tiff\"\n",
    "with Reader(src_path) as cog:\n",
    "    info = cog.info()\n",
    "    minzoom = cog.minzoom\n",
    "    maxzoom = cog.maxzoom\n",
    "    bounds = cog.get_geographic_bounds(cog.tms.rasterio_geographic_crs)\n",
    "\n",
    "print(info.model_dump(exclude_none=True))\n",
    "print(bounds)\n",
    "print(minzoom, maxzoom)\n",
    "\n",
    "center = ((bounds[1] + bounds[3]) / 2, (bounds[0] + bounds[2]) / 2)\n",
    "m = Map(center=center, zoom=minzoom, basemap={})\n",
    "\n",
    "layer = TileLayer(\n",
    "    url=\"http://127.0.0.1:8000/api/tiles/lahad_datu/{z}/{x}/{y}\",\n",
    "    min_zoom=minzoom,\n",
    "    max_zoom=maxzoom+2,\n",
    "    opacity=1,\n",
    ")\n",
    "m.add_layer(layer)\n",
    "m"
   ]
  },
  {
   "cell_type": "code",
   "execution_count": 1,
   "metadata": {},
   "outputs": [
    {
     "ename": "NameError",
     "evalue": "name 'Reader' is not defined",
     "output_type": "error",
     "traceback": [
      "\u001b[1;31m---------------------------------------------------------------------------\u001b[0m",
      "\u001b[1;31mNameError\u001b[0m                                 Traceback (most recent call last)",
      "Cell \u001b[1;32mIn[1], line 1\u001b[0m\n\u001b[1;32m----> 1\u001b[0m \u001b[38;5;28;01mwith\u001b[39;00m \u001b[43mReader\u001b[49m(src_path, tms\u001b[38;5;241m=\u001b[39mmorecantile\u001b[38;5;241m.\u001b[39mtms\u001b[38;5;241m.\u001b[39mget(\u001b[38;5;124m\"\u001b[39m\u001b[38;5;124mWorldCRS84Quad\u001b[39m\u001b[38;5;124m\"\u001b[39m)) \u001b[38;5;28;01mas\u001b[39;00m cog:\n\u001b[0;32m      2\u001b[0m     info \u001b[38;5;241m=\u001b[39m cog\u001b[38;5;241m.\u001b[39minfo()\n\u001b[0;32m      3\u001b[0m     minzoom \u001b[38;5;241m=\u001b[39m cog\u001b[38;5;241m.\u001b[39mminzoom\n",
      "\u001b[1;31mNameError\u001b[0m: name 'Reader' is not defined"
     ]
    }
   ],
   "source": [
    "with Reader(src_path, tms=morecantile.tms.get(\"WorldCRS84Quad\")) as cog:\n",
    "    info = cog.info()\n",
    "    minzoom = cog.minzoom\n",
    "    maxzoom = cog.maxzoom\n",
    "    bounds = cog.get_geographic_bounds(cog.tms.rasterio_geographic_crs)\n",
    "\n",
    "print(info.model_dump(exclude_none=True))\n",
    "\n",
    "center = ((bounds[1] + bounds[3]) / 2, (bounds[0] + bounds[2]) / 2)\n",
    "m = Map(center=center, zoom=minzoom, basemap={}, crs=projections.EPSG4326)\n",
    "\n",
    "layer = TileLayer(\n",
    "    url=\"http://127.0.0.1:8080/tiles/WorldCRS84Quad/{z}/{x}/{y}\",\n",
    "    min_zoom=minzoom,\n",
    "    max_zoom=maxzoom,\n",
    "    opacity=1,\n",
    ")\n",
    "m.add_layer(layer)\n",
    "m"
   ]
  },
  {
   "cell_type": "code",
   "execution_count": null,
   "metadata": {},
   "outputs": [],
   "source": [
    "ts.stop()"
   ]
  }
 ],
 "metadata": {
  "kernelspec": {
   "display_name": ".venv",
   "language": "python",
   "name": "python3"
  },
  "language_info": {
   "codemirror_mode": {
    "name": "ipython",
    "version": 3
   },
   "file_extension": ".py",
   "mimetype": "text/x-python",
   "name": "python",
   "nbconvert_exporter": "python",
   "pygments_lexer": "ipython3",
   "version": "3.10.11"
  }
 },
 "nbformat": 4,
 "nbformat_minor": 2
}
