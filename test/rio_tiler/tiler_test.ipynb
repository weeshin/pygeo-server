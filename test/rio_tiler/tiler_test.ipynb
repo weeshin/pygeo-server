{
 "cells": [
  {
   "cell_type": "code",
   "execution_count": 1,
   "metadata": {},
   "outputs": [],
   "source": [
    "from rio_tiler.io import Reader\n",
    "from ipyleaflet import Map, TileLayer, basemaps"
   ]
  },
  {
   "cell_type": "code",
   "execution_count": 2,
   "metadata": {},
   "outputs": [
    {
     "name": "stdout",
     "output_type": "stream",
     "text": [
      "{'bounds': (2681963.3968851496, 591777.0659296932, 2684162.5989161497, 593574.0311672932), 'crs': 'http://www.opengis.net/def/crs/EPSG/0/32647', 'band_metadata': [('b1', {'STATISTICS_APPROXIMATE': 'YES', 'STATISTICS_MAXIMUM': '232', 'STATISTICS_MEAN': '93.427102265171', 'STATISTICS_MINIMUM': '41', 'STATISTICS_STDDEV': '23.414576247576', 'STATISTICS_VALID_PERCENT': '70.33'}), ('b2', {'STATISTICS_APPROXIMATE': 'YES', 'STATISTICS_MAXIMUM': '228', 'STATISTICS_MEAN': '133.97841216366', 'STATISTICS_MINIMUM': '65', 'STATISTICS_STDDEV': '18.587782907648', 'STATISTICS_VALID_PERCENT': '70.33'}), ('b3', {'STATISTICS_APPROXIMATE': 'YES', 'STATISTICS_MAXIMUM': '222', 'STATISTICS_MEAN': '84.303648211357', 'STATISTICS_MINIMUM': '43', 'STATISTICS_STDDEV': '17.222671627944', 'STATISTICS_VALID_PERCENT': '70.33'}), ('b4', {'STATISTICS_APPROXIMATE': 'YES', 'STATISTICS_MAXIMUM': '255', 'STATISTICS_MEAN': '178.42586797449', 'STATISTICS_MINIMUM': '0', 'STATISTICS_STDDEV': '116.88800610432', 'STATISTICS_VALID_PERCENT': '100'})], 'band_descriptions': [('b1', ''), ('b2', ''), ('b3', ''), ('b4', '')], 'dtype': 'uint8', 'nodata_type': 'Alpha', 'colorinterp': ['red', 'green', 'blue', 'alpha'], 'scales': [1.0, 1.0, 1.0, 1.0], 'offsets': [0.0, 0.0, 0.0, 0.0], 'driver': 'GTiff', 'count': 4, 'width': 50530, 'height': 41288, 'overviews': [2, 4, 8, 16]}\n",
      "(118.31184683143996, 5.051553101311043, 118.33103543270258, 5.067468449410426)\n",
      "14 22\n"
     ]
    },
    {
     "data": {
      "application/vnd.jupyter.widget-view+json": {
       "model_id": "873e2087ef9140379d5574ab62d8f074",
       "version_major": 2,
       "version_minor": 0
      },
      "text/plain": [
       "Map(center=[5.059510775360735, 118.32144113207127], controls=(ZoomControl(options=['position', 'zoom_in_text',…"
      ]
     },
     "execution_count": 2,
     "metadata": {},
     "output_type": "execute_result"
    }
   ],
   "source": [
    "src_path = \"D:\\\\EmDrone\\\\Lahad Datu\\\\lahad_datu_cog.tif\"\n",
    "# src_path = \"C:\\\\Users\\\\Nicklim\\\\Documents\\\\Personal\\\\Projects\\\\Medium\\\\OGC\\\\pygeo-server\\\\data\\\\mersing-rgb.tiff\"\n",
    "with Reader(src_path) as cog:\n",
    "    info = cog.info()\n",
    "    minzoom = cog.minzoom\n",
    "    maxzoom = cog.maxzoom\n",
    "    bounds = cog.get_geographic_bounds(cog.tms.rasterio_geographic_crs)\n",
    "\n",
    "print(info.model_dump(exclude_none=True))\n",
    "print(bounds)\n",
    "print(minzoom, maxzoom)\n",
    "\n",
    "center = ((bounds[1] + bounds[3]) / 2, (bounds[0] + bounds[2]) / 2)\n",
    "m = Map(basemap=basemaps.OpenStreetMap.Mapnik, center=center, zoom=minzoom)\n",
    "\n",
    "layer = TileLayer(\n",
    "    url=\"http://127.0.0.1:8000/api/tiles/lahad_datu/{z}/{x}/{y}\",\n",
    "    # url=\"http://127.0.0.1:8000/api/tiles/mersing/{z}/{x}/{y}\",\n",
    "    min_zoom=minzoom,\n",
    "    max_zoom=maxzoom+2,\n",
    "    opacity=1,\n",
    ")\n",
    "m.add_layer(layer)\n",
    "m"
   ]
  },
  {
   "cell_type": "markdown",
   "metadata": {},
   "source": [
    "WMS Layer"
   ]
  },
  {
   "cell_type": "code",
   "execution_count": 14,
   "metadata": {},
   "outputs": [
    {
     "data": {
      "application/vnd.jupyter.widget-view+json": {
       "model_id": "27908feefe50481cb4b3c729c6566a30",
       "version_major": 2,
       "version_minor": 0
      },
      "text/plain": [
       "Map(center=[5.061053, 118.321937], controls=(ZoomControl(options=['position', 'zoom_in_text', 'zoom_in_title',…"
      ]
     },
     "execution_count": 14,
     "metadata": {},
     "output_type": "execute_result"
    }
   ],
   "source": [
    "from ipyleaflet import Map, WMSLayer, basemaps\n",
    "\n",
    "wms = WMSLayer(\n",
    "    url='http://127.0.0.1:8000/api/wms',\n",
    "    layers='lahad_datu',\n",
    "    format='image/png',\n",
    "    transparent=True,\n",
    "    attribution='lahad datu map',\n",
    "    max_zoom=25\n",
    ")\n",
    "\n",
    "m = Map(basemap=basemaps.OpenStreetMap.Mapnik, center=(5.061053, 118.321937), zoom=14)\n",
    "\n",
    "m.add(wms)\n",
    "\n",
    "m"
   ]
  }
 ],
 "metadata": {
  "kernelspec": {
   "display_name": ".venv",
   "language": "python",
   "name": "python3"
  },
  "language_info": {
   "codemirror_mode": {
    "name": "ipython",
    "version": 3
   },
   "file_extension": ".py",
   "mimetype": "text/x-python",
   "name": "python",
   "nbconvert_exporter": "python",
   "pygments_lexer": "ipython3",
   "version": "3.10.11"
  }
 },
 "nbformat": 4,
 "nbformat_minor": 2
}
